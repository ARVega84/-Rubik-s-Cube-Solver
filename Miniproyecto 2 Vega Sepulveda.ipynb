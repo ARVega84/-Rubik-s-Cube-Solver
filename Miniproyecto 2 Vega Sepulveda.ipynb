{
 "cells": [
  {
   "cell_type": "markdown",
   "metadata": {},
   "source": [
    "<table>\n",
    "    <tr>\n",
    "        <td><img src=\"./imagenes/Macc.png\" width=\"400\"/></td>\n",
    "        <td>&nbsp;</td>\n",
    "        <td>\n",
    "            <h1 style=\"color:blue;text-align:left\">Inteligencia Artificial</h1></td>\n",
    "        <td>\n",
    "            <table><tr>\n",
    "            <tp><p style=\"font-size:150%;text-align:center\">Notebook</p></tp>\n",
    "                <tp><p style=\"font-size:150%;text-align:center\">Alejandro Vega y Juan Nicolás Sepúlveda</p></tp>\n",
    "            <tp><p style=\"font-size:150%;text-align:center\">Mini proyecto 2: Búsqueda en espacio de estados</p></tp>\n",
    "            </tr></table>\n",
    "        </td>\n",
    "    </tr>\n",
    "</table>\n",
    "\n",
    "---"
   ]
  },
  {
   "cell_type": "markdown",
   "metadata": {},
   "source": [
    "# Imports"
   ]
  },
  {
   "cell_type": "code",
   "execution_count": 1,
   "metadata": {},
   "outputs": [],
   "source": [
    "from ambiente import Cubo\n",
    "from busqueda import *\n",
    "from tiempos import compara_funciones\n",
    "from testSuits import test_suit_heuristicas_cubo"
   ]
  },
  {
   "cell_type": "code",
   "execution_count": 2,
   "metadata": {},
   "outputs": [],
   "source": [
    "import matplotlib.pyplot as plt\n",
    "import seaborn as sns\n",
    "from copy import deepcopy"
   ]
  },
  {
   "cell_type": "markdown",
   "metadata": {},
   "source": [
    "Importamos el módulo ambiente del cual vamos a usar la clase `cubo` la cual sirve de ambiente para el problema de resolver un cubo de rubik 2x2 con la restricción de que solo puede mover la cara superior y la cara derecha.\n",
    "\n",
    "Este cuenta con los siguientes métodos:\n",
    "\n",
    "\n",
    "## Métodos usados en el problema:\n",
    "\n",
    "* **pintar_estado_cmd():** muestra el estado actual del cubo en caracteres ascci. Ideal para visualización en consola.\n",
    "\n",
    "    Los colores del cubo están codificados de la siguiente manera:\n",
    "    \n",
    "    * 0: blanco\n",
    "    * 1: naranja\n",
    "    * 2: verde\n",
    "    * 3: rojo\n",
    "    * 4: azul\n",
    "    * 5: amarillo\n",
    "    \n",
    "    \n",
    "* **pintar_estado():** muestra el estado actual del cubo con colores en una gráfica de matplotlib. Ideal para visualización en un notebook.\n",
    "\n",
    "\n",
    "* **mezclar_cubo():** recibe una lista de acciones y la usa para mezclar el cubo o recibe un entero y le realiza esa cantidad de moviemientos aleatorios al cubo.\n",
    "\n",
    "\n",
    "* **Métodos de giro:**\n",
    "    - *giro_superior()*\n",
    "    - *giro_superior_reves()*\n",
    "    - *giro_superior_doble()*\n",
    "    - *giro_derecho()*\n",
    "    - *giro_derecho_reves()*\n",
    "    - *giro_derecho_doble()*\n",
    "    \n",
    "    sirven para girar la cara indicada del cubo en sentido horario (o sentido anti-horario si es giro_cara_reves).\n",
    "    También, un giro doble implica girar la cara en cuestión dos veces.\n",
    "    \n",
    "    \n",
    "* **Métodos usados en la búsqueda:**\n",
    "\n",
    "    - *test_objetivo:* Compara el estado actual con el estado objetivo y retorna si son iguales o no.\n",
    "    - *acciones_aplicables:* retorna siempre lo mismo, todas las acciones que le podemos aplicar al cubo.\n",
    "    - *transicion:* Toma un estado y una acción y retorna el estado obtenido al aplicar dicha acción.\n",
    "    - *costo:* retorna `1`para cualquier accion que se realice sobre cualquier estado.\n",
    "    - *codigo:* retorna la representacion como string de un estado del cubo.\n",
    "    \n",
    "\n",
    "## Métodos no usados en el problema:\n",
    "\n",
    "* **Métodos de giro:**\n",
    "    - *giro_frontal()*\n",
    "    - *giro_frontal_reves()*\n",
    "    - *giro_frontal_doble()*\n",
    "    \n",
    "    Tienen la misma funcionalidad que los otros métodos de giro mencionados anteriormente. \n",
    "    \n",
    "    Estos método no se van a estar usando en la resolución del problema. esto por las restricciones que definimos al comienzo."
   ]
  },
  {
   "cell_type": "markdown",
   "metadata": {},
   "source": [
    "# Funcionamiento del entorno"
   ]
  },
  {
   "cell_type": "markdown",
   "metadata": {},
   "source": [
    "###### Ahora vamos a revisar el funcionamiento de los métodos del ambiente.\n"
   ]
  },
  {
   "cell_type": "markdown",
   "metadata": {},
   "source": [
    "Creamos un objeto de clase cubo, le pedimos que se mezcle usando 10 movimientos aleatorios, y que nos muestre los movimientos que usó para revolver el cubo. posteriormente imprimimos el estado del cubo."
   ]
  },
  {
   "cell_type": "code",
   "execution_count": 3,
   "metadata": {},
   "outputs": [
    {
     "name": "stdout",
     "output_type": "stream",
     "text": [
      "Movimientos realizados para mezclar el cubo: ['arriba', 'arriba', '2frente', '2frente', 'frente', 'arriba', 'frente', '2frente', '!arriba', 'derecha']\n"
     ]
    },
    {
     "data": {
      "image/png": "[encoded data removed]",
      "text/plain": [
       "<Figure size 640x480 with 1 Axes>"
      ]
     },
     "metadata": {},
     "output_type": "display_data"
    }
   ],
   "source": [
    "cubo = Cubo(num_movs=10, verbose=True, restriccion=False)\n",
    "estado = cubo.estado_inicial\n",
    "cubo.pintar_estado(estado)"
   ]
  },
  {
   "cell_type": "markdown",
   "metadata": {},
   "source": [
    "También le podemos pasar una lista de movimientos para que mezcle el cubo."
   ]
  },
  {
   "cell_type": "code",
   "execution_count": 17,
   "metadata": {},
   "outputs": [
    {
     "name": "stdout",
     "output_type": "stream",
     "text": [
      "Movimientos realizados para mezclar el cubo: ['arriba', '2frente', '2arriba', '2derecha', 'arriba']\n"
     ]
    },
    {
     "data": {
      "image/png": "[encoded data removed]",
      "text/plain": [
       "<Figure size 640x480 with 1 Axes>"
      ]
     },
     "metadata": {},
     "output_type": "display_data"
    }
   ],
   "source": [
    "cubo = Cubo(verbose=True, restriccion=False, estado_inicial=['arriba', '2frente', '2arriba',\n",
    "                                                                            '2derecha', 'arriba'])\n",
    "estado = cubo.estado_inicial\n",
    "cubo.pintar_estado(estado)"
   ]
  },
  {
   "cell_type": "markdown",
   "metadata": {},
   "source": [
    "También podemos visualizar el estado objetivo del cubo."
   ]
  },
  {
   "cell_type": "code",
   "execution_count": 18,
   "metadata": {},
   "outputs": [
    {
     "data": {
      "image/png": "[encoded data removed]",
      "text/plain": [
       "<Figure size 640x480 with 1 Axes>"
      ]
     },
     "metadata": {},
     "output_type": "display_data"
    }
   ],
   "source": [
    "cubo.pintar_estado(cubo.estado_objetivo)"
   ]
  },
  {
   "cell_type": "markdown",
   "metadata": {},
   "source": [
    "# Heurísticas para el problema\n"
   ]
  },
  {
   "cell_type": "markdown",
   "metadata": {},
   "source": [
    "Para este problema se estarán usando dos heurísticas distintas, las cuales vamos a ver a continuación."
   ]
  },
  {
   "cell_type": "markdown",
   "metadata": {},
   "source": [
    "###### 1. Stickers mal puestos\n",
    "\n",
    "En esta heurística se recorre cada cara del cubo y se cuenta cuántos stickers hay en esa cara cuyo color no corresponda al color de esa cara del cubo. Además, coloca una penalización extra si en esa cara hay un sticker del color opuesto a esa cara. donde:\n",
    "    \n",
    "* El blanco es opuesto al amarillo.\n",
    "* El verde es opuesto al azul.\n",
    "* El rojo es opuesto al naranja."
   ]
  },
  {
   "cell_type": "code",
   "execution_count": 3,
   "metadata": {},
   "outputs": [],
   "source": [
    "    def stickers_mal_puestos(self, estado):\n",
    "        \n",
    "        s = deepcopy(estado)\n",
    "        \n",
    "        opuestos = {0:5,\n",
    "                    5:0,\n",
    "                    1:3,\n",
    "                    3:1,\n",
    "                    2:4,\n",
    "                    4:2}\n",
    "\n",
    "        mal_puestas = 0\n",
    "        for idx, cara in enumerate(s):\n",
    "            mal_puestas += 4 - cara.count(idx)\n",
    "            if opuestos[idx] in cara:\n",
    "                mal_puestas += 1\n",
    "\n",
    "        return mal_puestas"
   ]
  },
  {
   "cell_type": "markdown",
   "metadata": {},
   "source": [
    "###### 2. Esquinas mal puestas\n",
    "\n",
    "Esta heurística se diferencia de la anterior porque en este estamos teniendo en cuenta la estructura del cubo y estamos evaluando la posición de cada esquina (cubito) y contando la cantidad de esquinas que no están en su lugar."
   ]
  },
  {
   "cell_type": "code",
   "execution_count": 4,
   "metadata": {},
   "outputs": [],
   "source": [
    "def esquinas_mal_puestas(self, estado):\n",
    "\n",
    "        s = deepcopy(estado)\n",
    "        \n",
    "        esquinas = [[0, 1, 4],\n",
    "                    [0, 4, 3],\n",
    "                    [0, 3, 2],\n",
    "                    [0, 2, 1],\n",
    "                    [2, 5, 1],\n",
    "                    [3, 5, 2],\n",
    "                    [4, 5, 3],\n",
    "                    [1, 5, 4],]\n",
    "\n",
    "\n",
    "        s_esquinas =   [[s[0][0], s[1][0], s[4][1]],\n",
    "                        [s[0][1], s[4][0], s[3][1]],\n",
    "                        [s[0][2], s[3][0], s[2][1]],\n",
    "                        [s[0][3], s[2][0], s[1][1]],\n",
    "                        [s[2][3], s[5][0], s[1][2]],\n",
    "                        [s[3][3], s[5][1], s[2][2]],\n",
    "                        [s[4][3], s[5][2], s[3][2]],\n",
    "                        [s[1][3], s[5][3], s[4][2]],]\n",
    "        \n",
    "        bien_puestas = 0\n",
    "\n",
    "        for i in range(8):\n",
    "            if esquinas[i] == s_esquinas[i]:\n",
    "                bien_puestas += 1\n",
    "\n",
    "        return 8 - bien_puestas"
   ]
  },
  {
   "cell_type": "markdown",
   "metadata": {},
   "source": [
    "# Pruebas"
   ]
  },
  {
   "cell_type": "markdown",
   "metadata": {},
   "source": [
    "## Búsqueda a ciegas\n",
    "\n",
    "vamos a empezar midiendo el tiempo promedio que le toma a los métdos de búsqueda a ciegas en encontrar una solución para el problema"
   ]
  },
  {
   "cell_type": "markdown",
   "metadata": {},
   "source": [
    "Para evaluar los tiempos en cpu de los algotimos vamos a usar `compara_funciones()` del módulo tiempos.\n",
    "\n",
    "***IMPORTANTE:*** Es ***MUY*** posible que al correr esta celda el notebook se congele y tenga"
   ]
  },
  {
   "cell_type": "code",
   "execution_count": 7,
   "metadata": {
    "scrolled": true
   },
   "outputs": [
    {
     "name": "stdout",
     "output_type": "stream",
     "text": [
      "============================================================\n",
      "Resultados para num_moves = 1\n",
      "\n",
      "                       tiempo_CPU          \n",
      "                             mean       std\n",
      "Función                                    \n",
      "Backtracking             0.000220  0.000017\n",
      "Primero en anchura       0.000256  0.000080\n",
      "Primero en profundidad   0.000242  0.000054\n",
      "\n",
      "============================================================\n",
      "Resultados para num_moves = 2\n",
      "\n",
      "                       tiempo_CPU          \n",
      "                             mean       std\n",
      "Función                                    \n",
      "Backtracking             0.020072  0.002040\n",
      "Primero en anchura       0.004154  0.001187\n",
      "Primero en profundidad   0.001506  0.000248\n",
      "\n"
     ]
    }
   ],
   "source": [
    "# Vamos a hacer experimentos en los cuales vamos a ir aumentando la cantidad de movimientos\n",
    "# para revolver el cubo\n",
    "max_movimientos = 2\n",
    "\n",
    "for num in range(1, max_movimientos+1):\n",
    "    prob = Cubo(num_movs=num)\n",
    "    \n",
    "    funs = [anchura,\n",
    "        profundidad,\n",
    "        lambda problema: backtracking(problema, Nodo(problema.estado_inicial, None, None, 0, problema.codigo(problema.estado_inicial)))]\n",
    "    \n",
    "    args = [[prob],[prob],[prob]]\n",
    "    nombres = ['Primero en anchura', \n",
    "               'Primero en profundidad', \n",
    "               'Backtracking']\n",
    "    \n",
    "    data = compara_funciones(lista_funs=funs, \n",
    "                         lista_args=args, \n",
    "                         lista_nombres=nombres, \n",
    "                         num_it=10)\n",
    "    \n",
    "    print(\"============================================================\")\n",
    "    print(f\"Resultados para num_moves = {num}\\n\")\n",
    "    print(data.groupby('Función').agg({'tiempo_CPU':['mean', 'std']}))\n",
    "    print()"
   ]
  },
  {
   "cell_type": "code",
   "execution_count": 8,
   "metadata": {},
   "outputs": [
    {
     "data": {
      "text/plain": [
       "<AxesSubplot:xlabel='Función', ylabel='tiempo_CPU'>"
      ]
     },
     "execution_count": 8,
     "metadata": {},
     "output_type": "execute_result"
    },
    {
     "data": {
      "image/png": "[encoded data removed]",
      "text/plain": [
       "<Figure size 900x300 with 1 Axes>"
      ]
     },
     "metadata": {},
     "output_type": "display_data"
    }
   ],
   "source": [
    "fig, ax = plt.subplots(1,1, figsize=(3*len(funs),3), tight_layout=True)\n",
    "sns.boxplot(data=data, x='Función', y='tiempo_CPU')"
   ]
  },
  {
   "cell_type": "markdown",
   "metadata": {},
   "source": [
    "Es evidente que hay un problema de maldición dimensionalidad aquí. al revolver el cubo con 4 o 5 movimientos, ya se presentan casos en los que los algoritmos se demoran una gran cantidad de tiempo en encontrar una respuesta."
   ]
  },
  {
   "cell_type": "markdown",
   "metadata": {},
   "source": [
    "## Búsqueda informada"
   ]
  },
  {
   "cell_type": "markdown",
   "metadata": {},
   "source": [
    "###### Comparaciń de heurísticas"
   ]
  },
  {
   "cell_type": "code",
   "execution_count": 7,
   "metadata": {},
   "outputs": [
    {
     "name": "stdout",
     "output_type": "stream",
     "text": [
      "0\n",
      "stickers_mal_puestos\n",
      "1\n",
      "esquinas_mal_puestas\n",
      "============================================================\n",
      "Resultados para num_moves = 1\n",
      "\n",
      "                     tiempo_CPU          \n",
      "                           mean       std\n",
      "Función                                  \n",
      "esquinas_mal_puestas   0.001014  0.000157\n",
      "stickers_mal_puestos   0.000984  0.000178\n",
      "\n",
      "0\n",
      "stickers_mal_puestos\n",
      "1\n",
      "esquinas_mal_puestas\n",
      "============================================================\n",
      "Resultados para num_moves = 2\n",
      "\n",
      "                     tiempo_CPU          \n",
      "                           mean       std\n",
      "Función                                  \n",
      "esquinas_mal_puestas   0.001961  0.000138\n",
      "stickers_mal_puestos   0.001524  0.000251\n",
      "\n",
      "0\n",
      "stickers_mal_puestos\n",
      "1\n",
      "esquinas_mal_puestas\n",
      "============================================================\n",
      "Resultados para num_moves = 3\n",
      "\n",
      "                     tiempo_CPU          \n",
      "                           mean       std\n",
      "Función                                  \n",
      "esquinas_mal_puestas   0.000960  0.000160\n",
      "stickers_mal_puestos   0.000829  0.000127\n",
      "\n",
      "0\n",
      "stickers_mal_puestos\n",
      "1\n",
      "esquinas_mal_puestas\n",
      "============================================================\n",
      "Resultados para num_moves = 4\n",
      "\n",
      "                     tiempo_CPU          \n",
      "                           mean       std\n",
      "Función                                  \n",
      "esquinas_mal_puestas   0.029405  0.001602\n",
      "stickers_mal_puestos   0.000147  0.000040\n",
      "\n",
      "0\n",
      "stickers_mal_puestos\n",
      "1\n",
      "esquinas_mal_puestas\n",
      "============================================================\n",
      "Resultados para num_moves = 5\n",
      "\n",
      "                     tiempo_CPU          \n",
      "                           mean       std\n",
      "Función                                  \n",
      "esquinas_mal_puestas   0.006139  0.000175\n",
      "stickers_mal_puestos   0.006889  0.000395\n",
      "\n",
      "0\n",
      "stickers_mal_puestos\n",
      "1\n",
      "esquinas_mal_puestas\n",
      "============================================================\n",
      "Resultados para num_moves = 6\n",
      "\n",
      "                     tiempo_CPU          \n",
      "                           mean       std\n",
      "Función                                  \n",
      "esquinas_mal_puestas   0.000804  0.000151\n",
      "stickers_mal_puestos   3.090891  0.203461\n",
      "\n",
      "0\n",
      "stickers_mal_puestos\n",
      "1\n",
      "esquinas_mal_puestas\n",
      "============================================================\n",
      "Resultados para num_moves = 7\n",
      "\n",
      "                     tiempo_CPU          \n",
      "                           mean       std\n",
      "Función                                  \n",
      "esquinas_mal_puestas   0.019515  0.000285\n",
      "stickers_mal_puestos   2.961658  0.213614\n",
      "\n",
      "0\n",
      "stickers_mal_puestos\n",
      "1\n",
      "esquinas_mal_puestas\n",
      "============================================================\n",
      "Resultados para num_moves = 8\n",
      "\n",
      "                     tiempo_CPU          \n",
      "                           mean       std\n",
      "Función                                  \n",
      "esquinas_mal_puestas   0.163519  0.021102\n",
      "stickers_mal_puestos   0.060424  0.001574\n",
      "\n",
      "0\n",
      "stickers_mal_puestos\n",
      "1\n",
      "esquinas_mal_puestas\n",
      "============================================================\n",
      "Resultados para num_moves = 9\n",
      "\n",
      "                     tiempo_CPU          \n",
      "                           mean       std\n",
      "Función                                  \n",
      "esquinas_mal_puestas   0.542492  0.032699\n",
      "stickers_mal_puestos   2.874733  0.080264\n",
      "\n",
      "0\n",
      "stickers_mal_puestos\n",
      "1\n",
      "esquinas_mal_puestas\n",
      "============================================================\n",
      "Resultados para num_moves = 10\n",
      "\n",
      "                     tiempo_CPU          \n",
      "                           mean       std\n",
      "Función                                  \n",
      "esquinas_mal_puestas   0.207161  0.021106\n",
      "stickers_mal_puestos   2.673805  0.068489\n",
      "\n"
     ]
    }
   ],
   "source": [
    "for num in range(1, 11):\n",
    "    \n",
    "    # Definimos la cantidad de movimientos a usar\n",
    "    movimientos = [num]\n",
    "    \n",
    "    # Definimos las heurísticas\n",
    "    heuristicas = [stickers_mal_puestos, esquinas_mal_puestas]\n",
    "    nombres = ['stickers_mal_puestos', 'esquinas_mal_puestas']\n",
    "    # Creamos el test suite\n",
    "    \n",
    "    lista_tests, lista_nombres = test_suit_heuristicas_cubo(movimientos, heuristicas, nombres)\n",
    "    lista_funs = [avara]*len(lista_tests)\n",
    "    \n",
    "    \n",
    "    data = compara_funciones(lista_funs=lista_funs, \n",
    "                         lista_args=lista_tests, \n",
    "                         lista_nombres=lista_nombres, \n",
    "                         num_it=10)\n",
    "    \n",
    "    print(\"============================================================\")\n",
    "    print(f\"Resultados para num_moves = {num}\\n\")\n",
    "    print(data.groupby('Función').agg({'tiempo_CPU':['mean', 'std']}))\n",
    "    print()"
   ]
  },
  {
   "cell_type": "markdown",
   "metadata": {},
   "source": [
    "Se puede observar que aunque ambas heurísticas logran ayudar a encontrar una respuesta en un tiempo razonable, la heurística `esquinas_mal_puestas()` hace un trabajo mucho mejor.\n",
    "\n",
    "Es muy probable que esto sea porque como mencionaba anteriormente, un cubo no está compuesto de stickers individuales, si no de piezas completas. Por lo que, por ejemplo, Es posible detectar que la cara superior está armada cuando no es así.\n",
    "\n",
    "Veamos el siguiente ejemplo:"
   ]
  },
  {
   "cell_type": "code",
   "execution_count": 41,
   "metadata": {},
   "outputs": [
    {
     "name": "stdout",
     "output_type": "stream",
     "text": [
      "Movimientos realizados para mezclar el cubo: ['2derecha', '2frente', '2derecha', '2arriba']\n"
     ]
    },
    {
     "data": {
      "image/png": "[encoded data removed]",
      "text/plain": [
       "<Figure size 640x480 with 1 Axes>"
      ]
     },
     "metadata": {},
     "output_type": "display_data"
    }
   ],
   "source": [
    "cubo = Cubo(verbose=True, restriccion=False, estado_inicial=['2derecha', '2frente', '2derecha',\n",
    "                                                                            '2arriba'])\n",
    "estado = cubo.estado_inicial\n",
    "cubo.pintar_estado(estado)"
   ]
  },
  {
   "cell_type": "markdown",
   "metadata": {},
   "source": [
    "En este caso, las caras blancas y amarillas están armadas. pero las esquinas no están en la posición correcta, por lo que la heurística reconocería erróneamente este caso como un caso \"bueno\" cuando en realidad puede que haya uno que tenga más esquinas en su lugar aunque tenga menos stickers en la posición correcta."
   ]
  },
  {
   "cell_type": "markdown",
   "metadata": {},
   "source": [
    "###### Comparación de algoritmos"
   ]
  },
  {
   "cell_type": "code",
   "execution_count": 47,
   "metadata": {},
   "outputs": [
    {
     "name": "stdout",
     "output_type": "stream",
     "text": [
      "============================================================\n",
      "Resultados para num_moves = 1\n",
      "\n",
      "        tiempo_CPU          \n",
      "              mean       std\n",
      "Función                     \n",
      "A^*       0.000803  0.000026\n",
      "avara     0.000838  0.000033\n",
      "\n",
      "============================================================\n",
      "Resultados para num_moves = 2\n",
      "\n",
      "        tiempo_CPU          \n",
      "              mean       std\n",
      "Función                     \n",
      "A^*       0.000821  0.000053\n",
      "avara     0.001446  0.000126\n",
      "\n",
      "============================================================\n",
      "Resultados para num_moves = 3\n",
      "\n",
      "        tiempo_CPU          \n",
      "              mean       std\n",
      "Función                     \n",
      "A^*       0.000766  0.000065\n",
      "avara     0.000857  0.000114\n",
      "\n",
      "============================================================\n",
      "Resultados para num_moves = 4\n",
      "\n",
      "        tiempo_CPU          \n",
      "              mean       std\n",
      "Función                     \n",
      "A^*       0.001243  0.000102\n",
      "avara     0.000926  0.000281\n",
      "\n",
      "============================================================\n",
      "Resultados para num_moves = 5\n",
      "\n",
      "        tiempo_CPU          \n",
      "              mean       std\n",
      "Función                     \n",
      "A^*       0.017063  0.000480\n",
      "avara     0.220174  0.048839\n",
      "\n",
      "============================================================\n",
      "Resultados para num_moves = 6\n",
      "\n",
      "        tiempo_CPU          \n",
      "              mean       std\n",
      "Función                     \n",
      "A^*       0.000073  0.000006\n",
      "avara     0.000103  0.000018\n",
      "\n",
      "============================================================\n",
      "Resultados para num_moves = 7\n",
      "\n",
      "        tiempo_CPU          \n",
      "              mean       std\n",
      "Función                     \n",
      "A^*       0.000088  0.000020\n",
      "avara     0.000098  0.000012\n",
      "\n",
      "============================================================\n",
      "Resultados para num_moves = 8\n",
      "\n",
      "        tiempo_CPU          \n",
      "              mean       std\n",
      "Función                     \n",
      "A^*       0.092053  0.011483\n",
      "avara     1.737960  0.135759\n",
      "\n",
      "============================================================\n",
      "Resultados para num_moves = 9\n",
      "\n",
      "        tiempo_CPU          \n",
      "              mean       std\n",
      "Función                     \n",
      "A^*       0.055794  0.001969\n",
      "avara     0.814006  0.106524\n",
      "\n",
      "============================================================\n",
      "Resultados para num_moves = 10\n",
      "\n",
      "        tiempo_CPU          \n",
      "              mean       std\n",
      "Función                     \n",
      "A^*       0.037842  0.002330\n",
      "avara     0.803050  0.054809\n",
      "\n",
      "============================================================\n",
      "Resultados para num_moves = 11\n",
      "\n",
      "        tiempo_CPU          \n",
      "              mean       std\n",
      "Función                     \n",
      "A^*       2.115428  0.083659\n",
      "avara     7.054720  0.687692\n",
      "\n",
      "============================================================\n",
      "Resultados para num_moves = 12\n",
      "\n",
      "        tiempo_CPU          \n",
      "              mean       std\n",
      "Función                     \n",
      "A^*       0.015839  0.000649\n",
      "avara     0.045505  0.001349\n",
      "\n",
      "============================================================\n",
      "Resultados para num_moves = 13\n",
      "\n",
      "        tiempo_CPU          \n",
      "              mean       std\n",
      "Función                     \n",
      "A^*       0.295121  0.044899\n",
      "avara     1.801337  0.049995\n",
      "\n",
      "============================================================\n",
      "Resultados para num_moves = 14\n",
      "\n",
      "        tiempo_CPU          \n",
      "              mean       std\n",
      "Función                     \n",
      "A^*       0.206094  0.008121\n",
      "avara     0.154852  0.002028\n",
      "\n",
      "============================================================\n",
      "Resultados para num_moves = 15\n",
      "\n",
      "        tiempo_CPU          \n",
      "              mean       std\n",
      "Función                     \n",
      "A^*       0.112114  0.001782\n",
      "avara     0.215733  0.031336\n",
      "\n",
      "============================================================\n",
      "Resultados para num_moves = 16\n",
      "\n",
      "        tiempo_CPU          \n",
      "              mean       std\n",
      "Función                     \n",
      "A^*        0.00208  0.000089\n",
      "avara      0.00212  0.000130\n",
      "\n",
      "============================================================\n",
      "Resultados para num_moves = 17\n",
      "\n",
      "        tiempo_CPU          \n",
      "              mean       std\n",
      "Función                     \n",
      "A^*       0.089794  0.008252\n",
      "avara     0.496273  0.055534\n",
      "\n",
      "============================================================\n",
      "Resultados para num_moves = 18\n",
      "\n",
      "        tiempo_CPU          \n",
      "              mean       std\n",
      "Función                     \n",
      "A^*       0.007103  0.000543\n",
      "avara     0.008570  0.000823\n",
      "\n",
      "============================================================\n",
      "Resultados para num_moves = 19\n",
      "\n",
      "        tiempo_CPU          \n",
      "              mean       std\n",
      "Función                     \n",
      "A^*       0.834636  0.057041\n",
      "avara    10.427026  0.327244\n",
      "\n",
      "============================================================\n",
      "Resultados para num_moves = 20\n",
      "\n",
      "        tiempo_CPU          \n",
      "              mean       std\n",
      "Función                     \n",
      "A^*       0.007108  0.000290\n",
      "avara     0.007636  0.000698\n",
      "\n"
     ]
    }
   ],
   "source": [
    "verbose = True\n",
    "tiempos_avara = []\n",
    "std_avara = []\n",
    "tiempos_A_star = []\n",
    "std_A_star = []\n",
    "num_movs = 20\n",
    "\n",
    "for num in range(1, num_movs + 1):\n",
    "    \n",
    "    # Definimos la cantidad de movimientos a usar\n",
    "    movimientos = [num]\n",
    "    \n",
    "    # Definimos las heurísticas\n",
    "    heuristicas = [esquinas_mal_puestas]\n",
    "    nombres = ['esquinas_mal_puestas']\n",
    "    # Creamos el test suite\n",
    "    \n",
    "    lista_tests, lista_nombres = test_suit_heuristicas_cubo(movimientos, heuristicas, nombres)\n",
    "    lista_funs = [avara]*len(lista_tests) + [lambda prob: A_star(prob, W=2.5)]*len(lista_tests)\n",
    "#     print(lista_tests)\n",
    "    lista_nombres = ['avara', 'A^*']\n",
    "    lista_tests += lista_tests\n",
    "    \n",
    "    data = compara_funciones(lista_funs=lista_funs, \n",
    "                         lista_args=lista_tests, \n",
    "                         lista_nombres=lista_nombres, \n",
    "                         num_it=5)\n",
    "    \n",
    "    data = data.groupby('Función').agg({'tiempo_CPU':['mean', 'std']})\n",
    "    tiempos_avara.append(data.iloc[0][0])\n",
    "    std_avara.append(data.iloc[0][1])\n",
    "    tiempos_A_star.append(data.iloc[1][0])\n",
    "    std_A_star.append(data.iloc[1][1])\n",
    "    \n",
    "    if verbose:\n",
    "        print(\"============================================================\")\n",
    "        print(f\"Resultados para num_moves = {num}\\n\")\n",
    "        print(data)\n",
    "        print()"
   ]
  },
  {
   "cell_type": "markdown",
   "metadata": {},
   "source": [
    "Vamos a visualizar los datos y comparar el rendimiento de ambos algoritmos."
   ]
  },
  {
   "cell_type": "code",
   "execution_count": 46,
   "metadata": {},
   "outputs": [
    {
     "data": {
      "image/png": "[encoded data removed]",
      "text/plain": [
       "<Figure size 640x480 with 1 Axes>"
      ]
     },
     "metadata": {},
     "output_type": "display_data"
    }
   ],
   "source": [
    "fig = plt.figure()\n",
    "\n",
    "x = np.arange(num_movs)\n",
    "y = tiempos_avara\n",
    "\n",
    "plt.errorbar(x, y, xerr=std_avara, label='Avara')\n",
    "\n",
    "y = tiempos_A_star\n",
    "plt.errorbar(x, y, xerr=std_A_star, label='$A^*$')\n",
    "\n",
    "plt.xlabel(\"num_movs\")\n",
    "plt.ylabel(\"tiempo (s)\")\n",
    "plt.title(\"Comparacion entre Avara y $A^*$\")\n",
    "\n",
    "plt.legend()\n",
    "plt.show()\n"
   ]
  },
  {
   "cell_type": "markdown",
   "metadata": {},
   "source": [
    "Se puede notar que aunque $A^*$ y Avara se comportan de manera similar en cuanto a tiempo. En algunos casos un poco más difíciles suele haber un algoritmo que se tarda mucho más en encontrar una respuesta que el otro, pero no hay un claro ganador. "
   ]
  },
  {
   "cell_type": "markdown",
   "metadata": {},
   "source": [
    "## Conclusiones"
   ]
  },
  {
   "cell_type": "markdown",
   "metadata": {},
   "source": [
    "Para este problema resulta difícil presentar una tabla comparativa incluyendo los resultados con algorimos de búsqueda a ciegas, ya que la cantidad de nodos que tienen que visitar (especialmente para búsqueda en anchura) es muy grande. Lo que hace que el kernel muera antes de que se termine la ejecución. Sin embargo, tenemos los resultados y son claros: Las heurísticas ayudan a alivianar la maldición de la dimensionalidad.\n",
    "\n",
    "Adicionalmente, encontramos que entre las dos heurísticas probadas, `esquinas_mal_puestas()` ayuda a reducir el tiempo de búsqueda en una medida mucho mayor. Esto porque trata al cubo como un solo ente y no como la unión de caras independientes entre sí."
   ]
  }
 ],
 "metadata": {
  "kernelspec": {
   "display_name": "Python 3 (ipykernel)",
   "language": "python",
   "name": "python3"
  },
  "language_info": {
   "codemirror_mode": {
    "name": "ipython",
    "version": 3
   },
   "file_extension": ".py",
   "mimetype": "text/x-python",
   "name": "python",
   "nbconvert_exporter": "python",
   "pygments_lexer": "ipython3",
   "version": "3.9.13"
  }
 },
 "nbformat": 4,
 "nbformat_minor": 4
}
